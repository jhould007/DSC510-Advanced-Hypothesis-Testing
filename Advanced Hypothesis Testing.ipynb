{
 "cells": [
  {
   "cell_type": "markdown",
   "id": "3be94fcd",
   "metadata": {},
   "source": [
    "# Advanced Hypothesis Testing\n",
    "## By Josh Houlding\n",
    "This assignment aims to enhance proficiency in statistical analysis and hypothesis testing in Python utilizing real-world datasets to conduct hypothesis tests for paired data, multiple population means, and variance comparison, cultivating a deeper understanding of the statistical method's limitation and reliability through exploring assumptions, potential consequences of violating them, and their remedies.\n",
    "\n",
    "[Topic 6 page](https://halo.gcu.edu/courses/DSC-510-O501-20231116/course-units/a84cd4c2-4544-41d9-a81e-827b58358b05)"
   ]
  },
  {
   "cell_type": "markdown",
   "id": "9dffb56b",
   "metadata": {},
   "source": [
    "## Task 1: Paired Data Analysis\n",
    "1. Find a suitable dataset with paired data from a reliable source.\n",
    "2. Write a Jupyter notebook to import the dataset and perform a hypothesis test for paired data.\n",
    "3. Explain the problem, data, research question, and the appropriate statistical test that you would use to address the research question.\n",
    "4. Discuss the assumptions underlying the hypothesis test, potential consequences of violating these assumptions, and possible remedies.\n",
    "5. Propose a Python tool to assist with the interpretation of the results of the statistical test and visualizations.\n",
    "6. Record a 3- to 4-minute video explaining the analysis, results, and interpretation of the hypothesis test.\n",
    "\n",
    "<b>Dataset used:</b> [Memory Test on Drugged Islanders Data | Kaggle](https://www.kaggle.com/datasets/steveahn/memory-test-on-drugged-islanders-data)\n",
    "\n",
    "<b>Description:</b> \"An experiment on the effects of anti-anxiety medicine on memory recall when being primed with happy or sad memories. The participants were done on novel Islanders whom mimic real-life humans in response to external factors.\"\n",
    "\n",
    "`Drug` values: \"A\" is Alprazolam (Xanax), \"T\" is Triazolam (Halcion), and \"S\" is Sugar Tablet (Placebo). \n",
    "\n",
    "<b>Goal:</b> To determine if Xanax significantly reduces time taken for memory recall. \n",
    "* Compare mean memory scores for before and after taking the drug, and see if the difference between them is statistically significant. \n",
    "\n",
    "<b>Method to be used:</b> A paired samples t-test will be used, since we are dealing with paired data. \n",
    "\n",
    "* $H_0$: The mean recall time before and after taking Xanax is the same. \n",
    "* $H_a$: The mean recall time before and after taking Xanax is different. \n",
    "* $\\alpha = 0.05$."
   ]
  },
  {
   "cell_type": "markdown",
   "id": "cea595d5",
   "metadata": {},
   "source": [
    "### Performing the test"
   ]
  },
  {
   "cell_type": "code",
   "execution_count": 2,
   "id": "3ffb32b3",
   "metadata": {},
   "outputs": [
    {
     "data": {
      "text/html": [
       "<div>\n",
       "<style scoped>\n",
       "    .dataframe tbody tr th:only-of-type {\n",
       "        vertical-align: middle;\n",
       "    }\n",
       "\n",
       "    .dataframe tbody tr th {\n",
       "        vertical-align: top;\n",
       "    }\n",
       "\n",
       "    .dataframe thead th {\n",
       "        text-align: right;\n",
       "    }\n",
       "</style>\n",
       "<table border=\"1\" class=\"dataframe\">\n",
       "  <thead>\n",
       "    <tr style=\"text-align: right;\">\n",
       "      <th></th>\n",
       "      <th>first_name</th>\n",
       "      <th>last_name</th>\n",
       "      <th>age</th>\n",
       "      <th>Happy_Sad_group</th>\n",
       "      <th>Dosage</th>\n",
       "      <th>Drug</th>\n",
       "      <th>Mem_Score_Before</th>\n",
       "      <th>Mem_Score_After</th>\n",
       "      <th>Diff</th>\n",
       "    </tr>\n",
       "  </thead>\n",
       "  <tbody>\n",
       "    <tr>\n",
       "      <th>0</th>\n",
       "      <td>Bastian</td>\n",
       "      <td>Carrasco</td>\n",
       "      <td>25</td>\n",
       "      <td>H</td>\n",
       "      <td>1</td>\n",
       "      <td>A</td>\n",
       "      <td>63.5</td>\n",
       "      <td>61.2</td>\n",
       "      <td>-2.3</td>\n",
       "    </tr>\n",
       "    <tr>\n",
       "      <th>1</th>\n",
       "      <td>Evan</td>\n",
       "      <td>Carrasco</td>\n",
       "      <td>52</td>\n",
       "      <td>S</td>\n",
       "      <td>1</td>\n",
       "      <td>A</td>\n",
       "      <td>41.6</td>\n",
       "      <td>40.7</td>\n",
       "      <td>-0.9</td>\n",
       "    </tr>\n",
       "    <tr>\n",
       "      <th>2</th>\n",
       "      <td>Florencia</td>\n",
       "      <td>Carrasco</td>\n",
       "      <td>29</td>\n",
       "      <td>H</td>\n",
       "      <td>1</td>\n",
       "      <td>A</td>\n",
       "      <td>59.7</td>\n",
       "      <td>55.1</td>\n",
       "      <td>-4.6</td>\n",
       "    </tr>\n",
       "    <tr>\n",
       "      <th>3</th>\n",
       "      <td>Holly</td>\n",
       "      <td>Carrasco</td>\n",
       "      <td>50</td>\n",
       "      <td>S</td>\n",
       "      <td>1</td>\n",
       "      <td>A</td>\n",
       "      <td>51.7</td>\n",
       "      <td>51.2</td>\n",
       "      <td>-0.5</td>\n",
       "    </tr>\n",
       "    <tr>\n",
       "      <th>4</th>\n",
       "      <td>Justin</td>\n",
       "      <td>Carrasco</td>\n",
       "      <td>52</td>\n",
       "      <td>H</td>\n",
       "      <td>1</td>\n",
       "      <td>A</td>\n",
       "      <td>47.0</td>\n",
       "      <td>47.1</td>\n",
       "      <td>0.1</td>\n",
       "    </tr>\n",
       "  </tbody>\n",
       "</table>\n",
       "</div>"
      ],
      "text/plain": [
       "  first_name last_name  age Happy_Sad_group  Dosage Drug  Mem_Score_Before  \\\n",
       "0    Bastian  Carrasco   25               H       1    A              63.5   \n",
       "1       Evan  Carrasco   52               S       1    A              41.6   \n",
       "2  Florencia  Carrasco   29               H       1    A              59.7   \n",
       "3      Holly  Carrasco   50               S       1    A              51.7   \n",
       "4     Justin  Carrasco   52               H       1    A              47.0   \n",
       "\n",
       "   Mem_Score_After  Diff  \n",
       "0             61.2  -2.3  \n",
       "1             40.7  -0.9  \n",
       "2             55.1  -4.6  \n",
       "3             51.2  -0.5  \n",
       "4             47.1   0.1  "
      ]
     },
     "execution_count": 2,
     "metadata": {},
     "output_type": "execute_result"
    }
   ],
   "source": [
    "import pandas as pd\n",
    "\n",
    "# Load the data\n",
    "islander_data = pd.read_csv(\"islander_data.csv\")\n",
    "islander_data.head()"
   ]
  },
  {
   "cell_type": "code",
   "execution_count": 3,
   "id": "ca3c2632",
   "metadata": {},
   "outputs": [
    {
     "data": {
      "text/plain": [
       "Drug\n",
       "A    67\n",
       "Name: count, dtype: int64"
      ]
     },
     "execution_count": 3,
     "metadata": {},
     "output_type": "execute_result"
    }
   ],
   "source": [
    "# Filter data down to only Xanax subjects\n",
    "islander_data = islander_data[islander_data[\"Drug\"] == \"A\"]\n",
    "islander_data[\"Drug\"].value_counts()"
   ]
  },
  {
   "cell_type": "code",
   "execution_count": 4,
   "id": "b523f488",
   "metadata": {},
   "outputs": [
    {
     "name": "stdout",
     "output_type": "stream",
     "text": [
      "t-statistic:-5.8485679397308425\n",
      "p-value:1.6898179935298675e-07\n"
     ]
    }
   ],
   "source": [
    "import scipy.stats as stats\n",
    "\n",
    "# Perform paired samples t-test\n",
    "t_stat, p_value = stats.ttest_rel(islander_data[\"Mem_Score_Before\"], islander_data[\"Mem_Score_After\"])\n",
    "print(f\"t-statistic:{t_stat}\")\n",
    "print(f\"p-value:{p_value}\")"
   ]
  },
  {
   "cell_type": "markdown",
   "id": "63d32bbf",
   "metadata": {},
   "source": [
    "Because $p < \\alpha$, we reject $H_0$. The statistical evidence is consistent with $H_a$ that Alprazolam has a significant effect on the mean recall time of subjects. Let's determine how large that effect is. "
   ]
  },
  {
   "cell_type": "code",
   "execution_count": 5,
   "id": "7221ddd4",
   "metadata": {
    "scrolled": true
   },
   "outputs": [
    {
     "data": {
      "text/html": [
       "<div>\n",
       "<style scoped>\n",
       "    .dataframe tbody tr th:only-of-type {\n",
       "        vertical-align: middle;\n",
       "    }\n",
       "\n",
       "    .dataframe tbody tr th {\n",
       "        vertical-align: top;\n",
       "    }\n",
       "\n",
       "    .dataframe thead th {\n",
       "        text-align: right;\n",
       "    }\n",
       "</style>\n",
       "<table border=\"1\" class=\"dataframe\">\n",
       "  <thead>\n",
       "    <tr style=\"text-align: right;\">\n",
       "      <th></th>\n",
       "      <th>count</th>\n",
       "      <th>mean</th>\n",
       "      <th>std</th>\n",
       "      <th>min</th>\n",
       "      <th>25%</th>\n",
       "      <th>50%</th>\n",
       "      <th>75%</th>\n",
       "      <th>max</th>\n",
       "    </tr>\n",
       "  </thead>\n",
       "  <tbody>\n",
       "    <tr>\n",
       "      <th>Diff</th>\n",
       "      <td>67.0</td>\n",
       "      <td>9.470149</td>\n",
       "      <td>13.25393</td>\n",
       "      <td>-16.3</td>\n",
       "      <td>-0.75</td>\n",
       "      <td>7.9</td>\n",
       "      <td>19.25</td>\n",
       "      <td>49.0</td>\n",
       "    </tr>\n",
       "  </tbody>\n",
       "</table>\n",
       "</div>"
      ],
      "text/plain": [
       "      count      mean       std   min   25%  50%    75%   max\n",
       "Diff   67.0  9.470149  13.25393 -16.3 -0.75  7.9  19.25  49.0"
      ]
     },
     "execution_count": 5,
     "metadata": {},
     "output_type": "execute_result"
    }
   ],
   "source": [
    "# Find descriptive statistics for recall times of Xanax subjects\n",
    "islander_data[\"Diff\"].describe().to_frame().transpose()"
   ]
  },
  {
   "cell_type": "markdown",
   "id": "dcc095de",
   "metadata": {},
   "source": [
    "We find that on average, Alprazolam increases recall time by about 9.5 seconds, indicating an overall negative impact on subjects. "
   ]
  },
  {
   "cell_type": "markdown",
   "id": "82217f84",
   "metadata": {},
   "source": [
    "### Assumptions underlying the test\n",
    "<span style=\"color:blue\">Crucially, we assume that the memory recall times before subjects are given Xanax are related to those after administering the drug.</span> This assumption is the fundamental basis of the paired samples t-test, as if there is no connection between the two fields, the test is not useful. \n",
    "\n",
    "<span style=\"color:blue\">We are also assuming that the difference between the paired observations (before and after administering Xanax) is approximately normally distributed.</span> We can check this using a histogram: "
   ]
  },
  {
   "cell_type": "code",
   "execution_count": 6,
   "id": "f4f4faa7",
   "metadata": {},
   "outputs": [
    {
     "data": {
      "image/png": "[encoded data removed]",
      "text/plain": [
       "<Figure size 640x480 with 1 Axes>"
      ]
     },
     "metadata": {},
     "output_type": "display_data"
    }
   ],
   "source": [
    "import seaborn as sns\n",
    "import matplotlib.pyplot as plt\n",
    "\n",
    "# View distribution of difference between before and after drug administration\n",
    "sns.histplot(islander_data[\"Diff\"])\n",
    "plt.title(\"Distribution of Difference in Recall Times\")\n",
    "plt.show()"
   ]
  },
  {
   "cell_type": "markdown",
   "id": "2e96a4b7",
   "metadata": {},
   "source": [
    "As expected, we see an approximately normal distribution, with a slight right skew. However, we notice that 0 is located on the left-hand side of the plot, confirming our earlier findings that the majority of patients saw an increase in recall times after taking Xanax. "
   ]
  },
  {
   "cell_type": "markdown",
   "id": "0244a134",
   "metadata": {},
   "source": [
    "## Task 2: Multiple Population Means Analysis\n",
    "1. Find a suitable dataset with more than two population means from a reliable source.\n",
    "2. Continuing in the same Jupyter notebook, write a code to import the dataset and perform a hypothesis test for more than two population means.\n",
    "3. Explain the problem, data, research question, and the appropriate statistical test that you would use to address the research question.\n",
    "4. Discuss the assumptions underlying the hypothesis test, potential consequences of violating these assumptions, and possible remedies.\n",
    "5. Propose a Python tool to assist with the interpretation of the results of the statistical test and visualizations.\n",
    "6. Record a 3- to 4-minute video explaining the analysis, results, and interpretation of the hypothesis test.\n",
    "\n",
    "<b>Dataset used:</b> [Salary_Data | Kaggle](https://www.kaggle.com/datasets/mohithsairamreddy/salary-data)\n",
    "\n",
    "<b>Description:</b> \"A The dataset was obtained from multiple sources, including surveys, job posting sites, and other publicly available sources.A total of 6704 data points were collected.The dataset included fivevariables: age, experience, job role, and education level and salary\"\n",
    "\n",
    "<b>Goal:</b> To determine if there are significant differences in the mean salaries of employees with various education levels.\n",
    "* Compare mean salaries of each education level and determine if the differences are statistically significant. \n",
    "\n",
    "<b>Method to be used:</b> An ANOVA test will be used, since we have multiple education levels. ANOVA tests are useful for comparing the means of 3 or more populations. \n",
    "\n",
    "* $H_0$: The mean salaries for each education level are the same. \n",
    "* $H_a$: At least one education level has a different mean salary than the others. \n",
    "* $\\alpha = 0.05$."
   ]
  },
  {
   "cell_type": "code",
   "execution_count": 7,
   "id": "887bd11f",
   "metadata": {
    "scrolled": true
   },
   "outputs": [
    {
     "data": {
      "text/html": [
       "<div>\n",
       "<style scoped>\n",
       "    .dataframe tbody tr th:only-of-type {\n",
       "        vertical-align: middle;\n",
       "    }\n",
       "\n",
       "    .dataframe tbody tr th {\n",
       "        vertical-align: top;\n",
       "    }\n",
       "\n",
       "    .dataframe thead th {\n",
       "        text-align: right;\n",
       "    }\n",
       "</style>\n",
       "<table border=\"1\" class=\"dataframe\">\n",
       "  <thead>\n",
       "    <tr style=\"text-align: right;\">\n",
       "      <th></th>\n",
       "      <th>Age</th>\n",
       "      <th>Gender</th>\n",
       "      <th>Education Level</th>\n",
       "      <th>Job Title</th>\n",
       "      <th>Years of Experience</th>\n",
       "      <th>Salary</th>\n",
       "    </tr>\n",
       "  </thead>\n",
       "  <tbody>\n",
       "    <tr>\n",
       "      <th>0</th>\n",
       "      <td>32.0</td>\n",
       "      <td>Male</td>\n",
       "      <td>Bachelor's</td>\n",
       "      <td>Software Engineer</td>\n",
       "      <td>5.0</td>\n",
       "      <td>90000.0</td>\n",
       "    </tr>\n",
       "    <tr>\n",
       "      <th>1</th>\n",
       "      <td>28.0</td>\n",
       "      <td>Female</td>\n",
       "      <td>Master's</td>\n",
       "      <td>Data Analyst</td>\n",
       "      <td>3.0</td>\n",
       "      <td>65000.0</td>\n",
       "    </tr>\n",
       "    <tr>\n",
       "      <th>2</th>\n",
       "      <td>45.0</td>\n",
       "      <td>Male</td>\n",
       "      <td>PhD</td>\n",
       "      <td>Senior Manager</td>\n",
       "      <td>15.0</td>\n",
       "      <td>150000.0</td>\n",
       "    </tr>\n",
       "    <tr>\n",
       "      <th>3</th>\n",
       "      <td>36.0</td>\n",
       "      <td>Female</td>\n",
       "      <td>Bachelor's</td>\n",
       "      <td>Sales Associate</td>\n",
       "      <td>7.0</td>\n",
       "      <td>60000.0</td>\n",
       "    </tr>\n",
       "    <tr>\n",
       "      <th>4</th>\n",
       "      <td>52.0</td>\n",
       "      <td>Male</td>\n",
       "      <td>Master's</td>\n",
       "      <td>Director</td>\n",
       "      <td>20.0</td>\n",
       "      <td>200000.0</td>\n",
       "    </tr>\n",
       "  </tbody>\n",
       "</table>\n",
       "</div>"
      ],
      "text/plain": [
       "    Age  Gender Education Level          Job Title  Years of Experience  \\\n",
       "0  32.0    Male      Bachelor's  Software Engineer                  5.0   \n",
       "1  28.0  Female        Master's       Data Analyst                  3.0   \n",
       "2  45.0    Male             PhD     Senior Manager                 15.0   \n",
       "3  36.0  Female      Bachelor's    Sales Associate                  7.0   \n",
       "4  52.0    Male        Master's           Director                 20.0   \n",
       "\n",
       "     Salary  \n",
       "0   90000.0  \n",
       "1   65000.0  \n",
       "2  150000.0  \n",
       "3   60000.0  \n",
       "4  200000.0  "
      ]
     },
     "execution_count": 7,
     "metadata": {},
     "output_type": "execute_result"
    }
   ],
   "source": [
    "# Load the data and drop rows with null values\n",
    "salary_data = pd.read_csv(\"Salary_Data.csv\")\n",
    "salary_data = salary_data.dropna()\n",
    "salary_data.head()"
   ]
  },
  {
   "cell_type": "code",
   "execution_count": 8,
   "id": "42faec36",
   "metadata": {},
   "outputs": [
    {
     "data": {
      "text/plain": [
       "array([\"Bachelor's\", \"Master's\", 'PhD', \"Bachelor's Degree\",\n",
       "       \"Master's Degree\", 'High School', 'phD'], dtype=object)"
      ]
     },
     "execution_count": 8,
     "metadata": {},
     "output_type": "execute_result"
    }
   ],
   "source": [
    "# Check names of education levels\n",
    "salary_data[\"Education Level\"].unique()"
   ]
  },
  {
   "cell_type": "markdown",
   "id": "007dcadc",
   "metadata": {},
   "source": [
    "We see some duplicate values, such as \"Bachelor's\" and \"Bachelor's Degree\", and \"phD\" and \"PhD\". Let's correct that quickly:"
   ]
  },
  {
   "cell_type": "code",
   "execution_count": 9,
   "id": "19215960",
   "metadata": {},
   "outputs": [],
   "source": [
    "import numpy as np\n",
    "\n",
    "# Change \"Bachelor's Degree\" to \"Bachelor's\", \"Master's Degree\" to \"Master's\", and \"phD\" to \"PhD\"\n",
    "salary_data[\"Education Level\"] = np.where(salary_data[\"Education Level\"] == \"Bachelor's Degree\", \"Bachelor's\", salary_data[\"Education Level\"])\n",
    "salary_data[\"Education Level\"] = np.where(salary_data[\"Education Level\"] == \"Master's Degree\", \"Master's\", salary_data[\"Education Level\"])\n",
    "salary_data[\"Education Level\"] = np.where(salary_data[\"Education Level\"] == \"phD\", \"PhD\", salary_data[\"Education Level\"])"
   ]
  },
  {
   "cell_type": "code",
   "execution_count": 10,
   "id": "6e4bb3c2",
   "metadata": {},
   "outputs": [
    {
     "data": {
      "text/plain": [
       "array([\"Bachelor's\", \"Master's\", 'PhD', 'High School'], dtype=object)"
      ]
     },
     "execution_count": 10,
     "metadata": {},
     "output_type": "execute_result"
    }
   ],
   "source": [
    "# Check updated education values\n",
    "salary_data[\"Education Level\"].unique()"
   ]
  },
  {
   "cell_type": "markdown",
   "id": "d1b54bd1",
   "metadata": {},
   "source": [
    "The problem has been resolved. On to the ANOVA test: "
   ]
  },
  {
   "cell_type": "code",
   "execution_count": 11,
   "id": "0aa7268b",
   "metadata": {},
   "outputs": [
    {
     "data": {
      "text/plain": [
       "F_onewayResult(statistic=1630.9393525726196, pvalue=0.0)"
      ]
     },
     "execution_count": 11,
     "metadata": {},
     "output_type": "execute_result"
    }
   ],
   "source": [
    "from scipy.stats import f_oneway\n",
    "\n",
    "# Perform ANOVA test\n",
    "ANOVA_result = f_oneway (\n",
    "    salary_data[\"Salary\"][salary_data[\"Education Level\"] == \"Bachelor's\"],\n",
    "    salary_data[\"Salary\"][salary_data[\"Education Level\"] == \"Master's\"],\n",
    "    salary_data[\"Salary\"][salary_data[\"Education Level\"] == \"PhD\"],\n",
    "    salary_data[\"Salary\"][salary_data[\"Education Level\"] == \"High School\"]\n",
    ")\n",
    "\n",
    "ANOVA_result"
   ]
  },
  {
   "cell_type": "markdown",
   "id": "4d67283f",
   "metadata": {},
   "source": [
    "We find that $p < \\alpha$, so we reject $H_0$. The statistical evidence is consistent with $H_a$ that at least one education level has a different mean salary than the others. Let's see how the mean salaries compare. "
   ]
  },
  {
   "cell_type": "code",
   "execution_count": 12,
   "id": "89d4caf5",
   "metadata": {},
   "outputs": [
    {
     "data": {
      "text/html": [
       "<div>\n",
       "<style scoped>\n",
       "    .dataframe tbody tr th:only-of-type {\n",
       "        vertical-align: middle;\n",
       "    }\n",
       "\n",
       "    .dataframe tbody tr th {\n",
       "        vertical-align: top;\n",
       "    }\n",
       "\n",
       "    .dataframe thead th {\n",
       "        text-align: right;\n",
       "    }\n",
       "</style>\n",
       "<table border=\"1\" class=\"dataframe\">\n",
       "  <thead>\n",
       "    <tr style=\"text-align: right;\">\n",
       "      <th></th>\n",
       "      <th>0</th>\n",
       "      <th>1</th>\n",
       "      <th>2</th>\n",
       "      <th>3</th>\n",
       "    </tr>\n",
       "  </thead>\n",
       "  <tbody>\n",
       "    <tr>\n",
       "      <th>Education Level</th>\n",
       "      <td>High School</td>\n",
       "      <td>Bachelor's</td>\n",
       "      <td>Master's</td>\n",
       "      <td>PhD</td>\n",
       "    </tr>\n",
       "    <tr>\n",
       "      <th>Salary</th>\n",
       "      <td>36706.69</td>\n",
       "      <td>95082.91</td>\n",
       "      <td>130112.06</td>\n",
       "      <td>165651.46</td>\n",
       "    </tr>\n",
       "  </tbody>\n",
       "</table>\n",
       "</div>"
      ],
      "text/plain": [
       "                           0           1          2          3\n",
       "Education Level  High School  Bachelor's   Master's        PhD\n",
       "Salary              36706.69    95082.91  130112.06  165651.46"
      ]
     },
     "execution_count": 12,
     "metadata": {},
     "output_type": "execute_result"
    }
   ],
   "source": [
    "# Find mean salaries for every education level\n",
    "salary_by_education_level = salary_data.groupby(\"Education Level\")[\"Salary\"].mean().to_frame().sort_values(by=\"Salary\").reset_index()\n",
    "salary_by_education_level[\"Salary\"] = round(salary_by_education_level[\"Salary\"], 2)\n",
    "salary_by_education_level.transpose()"
   ]
  },
  {
   "cell_type": "code",
   "execution_count": 13,
   "id": "ab1a1237",
   "metadata": {},
   "outputs": [
    {
     "data": {
      "image/png": "[encoded data removed]",
      "text/plain": [
       "<Figure size 640x480 with 1 Axes>"
      ]
     },
     "metadata": {},
     "output_type": "display_data"
    }
   ],
   "source": [
    "import matplotlib.pyplot as plt\n",
    "\n",
    "# Visualize salaries in a bar graph\n",
    "colors = [\"#c93232\", \"#e88915\", \"#d3e815\", \"#49bd0f\"]\n",
    "bars = plt.bar(salary_by_education_level[\"Education Level\"], salary_by_education_level[\"Salary\"], color=colors)\n",
    "plt.bar_label(bars, fmt=\"${:,.2f}\")\n",
    "plt.xlabel(\"Education Level\")\n",
    "plt.ylabel(\"Salary ($)\")\n",
    "plt.title(\"Mean Salary by Education Level\")\n",
    "plt.show()"
   ]
  },
  {
   "cell_type": "code",
   "execution_count": 14,
   "id": "4b119c6a",
   "metadata": {},
   "outputs": [
    {
     "data": {
      "text/html": [
       "<div>\n",
       "<style scoped>\n",
       "    .dataframe tbody tr th:only-of-type {\n",
       "        vertical-align: middle;\n",
       "    }\n",
       "\n",
       "    .dataframe tbody tr th {\n",
       "        vertical-align: top;\n",
       "    }\n",
       "\n",
       "    .dataframe thead th {\n",
       "        text-align: right;\n",
       "    }\n",
       "</style>\n",
       "<table border=\"1\" class=\"dataframe\">\n",
       "  <thead>\n",
       "    <tr style=\"text-align: right;\">\n",
       "      <th></th>\n",
       "      <th>Education Level</th>\n",
       "      <th>Salary</th>\n",
       "      <th>Multiple of High School</th>\n",
       "    </tr>\n",
       "  </thead>\n",
       "  <tbody>\n",
       "    <tr>\n",
       "      <th>0</th>\n",
       "      <td>High School</td>\n",
       "      <td>36706.69</td>\n",
       "      <td>1.00</td>\n",
       "    </tr>\n",
       "    <tr>\n",
       "      <th>1</th>\n",
       "      <td>Bachelor's</td>\n",
       "      <td>95082.91</td>\n",
       "      <td>2.59</td>\n",
       "    </tr>\n",
       "    <tr>\n",
       "      <th>2</th>\n",
       "      <td>Master's</td>\n",
       "      <td>130112.06</td>\n",
       "      <td>3.54</td>\n",
       "    </tr>\n",
       "    <tr>\n",
       "      <th>3</th>\n",
       "      <td>PhD</td>\n",
       "      <td>165651.46</td>\n",
       "      <td>4.51</td>\n",
       "    </tr>\n",
       "  </tbody>\n",
       "</table>\n",
       "</div>"
      ],
      "text/plain": [
       "  Education Level     Salary  Multiple of High School\n",
       "0     High School   36706.69                     1.00\n",
       "1      Bachelor's   95082.91                     2.59\n",
       "2        Master's  130112.06                     3.54\n",
       "3             PhD  165651.46                     4.51"
      ]
     },
     "execution_count": 14,
     "metadata": {},
     "output_type": "execute_result"
    }
   ],
   "source": [
    "# Find the factor by which each education level's mean salary is greater than that of high school\n",
    "hs_mean_salary = salary_by_education_level.at[0, \"Salary\"]\n",
    "salary_by_education_level[\"Multiple of High School\"] = round(salary_by_education_level[\"Salary\"] / hs_mean_salary, 2)\n",
    "salary_by_education_level.head()"
   ]
  },
  {
   "cell_type": "markdown",
   "id": "0dffd5ea",
   "metadata": {},
   "source": [
    "We can see a colossal difference in the mean salaries for each education level, with PhD holders earning ~4.5x as much as those with only a high school diploma on average. "
   ]
  },
  {
   "cell_type": "markdown",
   "id": "b9629841",
   "metadata": {},
   "source": [
    "## Task 3: Variance Comparison Analysis\n",
    "1. Find a suitable dataset with two or more populations with variances to compare from a reliable source.\n",
    "2. Continuing in the same Jupyter notebook, write a code to import the dataset and perform a hypothesis test for variance comparison.\n",
    "3. Explain the problem, data, research question, and the appropriate statistical test that you would use to address the research question.\n",
    "4. Discuss the assumptions underlying the hypothesis test, potential consequences of violating these assumptions, and possible remedies.\n",
    "5. Propose a Python tool to assist with the interpretation of the results of the statistical test and visualizations.\n",
    "6. Record a 3- to 4-minute video explaining the analysis, results, and interpretation of the hypothesis test.\n",
    "\n",
    "<b>Dataset used:</b> [Exercise and Fitness Metrics Dataset | Kaggle](https://www.kaggle.com/datasets/aakashjoshi123/exercise-and-fitness-metrics-dataset)\n",
    "\n",
    "<b>Description:</b> \"The \"Exercise and Fitness Metrics Dataset: Independent Variables and Weight Related Measures\" is a comprehensive dataset that captures various factors related to exercise, fitness, and weight management. The dataset includes a range of independent variables along with measurements of dream weight and actual weight.\"\n",
    "\n",
    "<b>Goal:</b> To determine if the variances in BMI for males and females are equal. \n",
    "\n",
    "<b>Method to be used:</b> Levene's test will be used, as it is a straightforward non-parametric test to compare the variances of multiple populations. \n",
    "\n",
    "* $H_0$: The variances in BMI for males and females are equal ($\\sigma^{2}_{maleBMIs} = \\sigma^{2}_{femaleBMIs}$). \n",
    "* $H_a$: The variances in BMI for males and females are different ($\\sigma^{2}_{maleBMIs} \\neq \\sigma^{2}_{femaleBMIs}$). \n",
    "* $\\alpha = 0.05$."
   ]
  },
  {
   "cell_type": "code",
   "execution_count": 15,
   "id": "231f4bf5",
   "metadata": {},
   "outputs": [
    {
     "data": {
      "text/html": [
       "<div>\n",
       "<style scoped>\n",
       "    .dataframe tbody tr th:only-of-type {\n",
       "        vertical-align: middle;\n",
       "    }\n",
       "\n",
       "    .dataframe tbody tr th {\n",
       "        vertical-align: top;\n",
       "    }\n",
       "\n",
       "    .dataframe thead th {\n",
       "        text-align: right;\n",
       "    }\n",
       "</style>\n",
       "<table border=\"1\" class=\"dataframe\">\n",
       "  <thead>\n",
       "    <tr style=\"text-align: right;\">\n",
       "      <th></th>\n",
       "      <th>ID</th>\n",
       "      <th>Exercise</th>\n",
       "      <th>Calories Burn</th>\n",
       "      <th>Dream Weight</th>\n",
       "      <th>Actual Weight</th>\n",
       "      <th>Age</th>\n",
       "      <th>Gender</th>\n",
       "      <th>Duration</th>\n",
       "      <th>Heart Rate</th>\n",
       "      <th>BMI</th>\n",
       "      <th>Weather Conditions</th>\n",
       "      <th>Exercise Intensity</th>\n",
       "    </tr>\n",
       "  </thead>\n",
       "  <tbody>\n",
       "    <tr>\n",
       "      <th>0</th>\n",
       "      <td>1</td>\n",
       "      <td>Exercise 2</td>\n",
       "      <td>286.959851</td>\n",
       "      <td>91.892531</td>\n",
       "      <td>96.301115</td>\n",
       "      <td>45</td>\n",
       "      <td>Male</td>\n",
       "      <td>37</td>\n",
       "      <td>170</td>\n",
       "      <td>29.426275</td>\n",
       "      <td>Rainy</td>\n",
       "      <td>5</td>\n",
       "    </tr>\n",
       "    <tr>\n",
       "      <th>1</th>\n",
       "      <td>2</td>\n",
       "      <td>Exercise 7</td>\n",
       "      <td>343.453036</td>\n",
       "      <td>64.165097</td>\n",
       "      <td>61.104668</td>\n",
       "      <td>25</td>\n",
       "      <td>Male</td>\n",
       "      <td>43</td>\n",
       "      <td>142</td>\n",
       "      <td>21.286346</td>\n",
       "      <td>Rainy</td>\n",
       "      <td>5</td>\n",
       "    </tr>\n",
       "    <tr>\n",
       "      <th>2</th>\n",
       "      <td>3</td>\n",
       "      <td>Exercise 4</td>\n",
       "      <td>261.223465</td>\n",
       "      <td>70.846224</td>\n",
       "      <td>71.766724</td>\n",
       "      <td>20</td>\n",
       "      <td>Male</td>\n",
       "      <td>20</td>\n",
       "      <td>148</td>\n",
       "      <td>27.899592</td>\n",
       "      <td>Cloudy</td>\n",
       "      <td>4</td>\n",
       "    </tr>\n",
       "    <tr>\n",
       "      <th>3</th>\n",
       "      <td>4</td>\n",
       "      <td>Exercise 5</td>\n",
       "      <td>127.183858</td>\n",
       "      <td>79.477008</td>\n",
       "      <td>82.984456</td>\n",
       "      <td>33</td>\n",
       "      <td>Male</td>\n",
       "      <td>39</td>\n",
       "      <td>170</td>\n",
       "      <td>33.729552</td>\n",
       "      <td>Sunny</td>\n",
       "      <td>10</td>\n",
       "    </tr>\n",
       "    <tr>\n",
       "      <th>4</th>\n",
       "      <td>5</td>\n",
       "      <td>Exercise 10</td>\n",
       "      <td>416.318374</td>\n",
       "      <td>89.960226</td>\n",
       "      <td>85.643174</td>\n",
       "      <td>29</td>\n",
       "      <td>Female</td>\n",
       "      <td>34</td>\n",
       "      <td>118</td>\n",
       "      <td>23.286113</td>\n",
       "      <td>Cloudy</td>\n",
       "      <td>3</td>\n",
       "    </tr>\n",
       "  </tbody>\n",
       "</table>\n",
       "</div>"
      ],
      "text/plain": [
       "   ID     Exercise  Calories Burn  Dream Weight  Actual Weight  Age  Gender  \\\n",
       "0   1   Exercise 2     286.959851     91.892531      96.301115   45    Male   \n",
       "1   2   Exercise 7     343.453036     64.165097      61.104668   25    Male   \n",
       "2   3   Exercise 4     261.223465     70.846224      71.766724   20    Male   \n",
       "3   4   Exercise 5     127.183858     79.477008      82.984456   33    Male   \n",
       "4   5  Exercise 10     416.318374     89.960226      85.643174   29  Female   \n",
       "\n",
       "   Duration  Heart Rate        BMI Weather Conditions  Exercise Intensity  \n",
       "0        37         170  29.426275              Rainy                   5  \n",
       "1        43         142  21.286346              Rainy                   5  \n",
       "2        20         148  27.899592             Cloudy                   4  \n",
       "3        39         170  33.729552              Sunny                  10  \n",
       "4        34         118  23.286113             Cloudy                   3  "
      ]
     },
     "execution_count": 15,
     "metadata": {},
     "output_type": "execute_result"
    }
   ],
   "source": [
    "# Load the data\n",
    "exercise_data = pd.read_csv(\"exercise_dataset.csv\")\n",
    "exercise_data.head()"
   ]
  },
  {
   "cell_type": "code",
   "execution_count": 19,
   "id": "c9084b2b",
   "metadata": {},
   "outputs": [
    {
     "name": "stdout",
     "output_type": "stream",
     "text": [
      "test-statistic:3.7393546512541693\n",
      "p-value:0.05321795219724149\n"
     ]
    }
   ],
   "source": [
    "from scipy.stats import levene\n",
    "\n",
    "# Get BMI data for males and females\n",
    "male_bmis = exercise_data[exercise_data[\"Gender\"] == \"Male\"][\"BMI\"]\n",
    "female_bmis = exercise_data[exercise_data[\"Gender\"] == \"Female\"][\"BMI\"]\n",
    "\n",
    "# Conduct Levene's test\n",
    "stat, p_value = levene(male_bmis, female_bmis)\n",
    "print(f\"test-statistic:{stat}\")\n",
    "print(f\"p-value:{p_value}\")"
   ]
  },
  {
   "cell_type": "markdown",
   "id": "ab6d1581",
   "metadata": {},
   "source": [
    "We see that $p > \\alpha$, so we fail to reject $H_0$. The statistical evidence is consistent with $H_0$ that male and female BMIs have roughly equal variances. \n",
    "\n",
    "Let's check what those variances are: "
   ]
  },
  {
   "cell_type": "code",
   "execution_count": 21,
   "id": "5471713f",
   "metadata": {},
   "outputs": [
    {
     "name": "stdout",
     "output_type": "stream",
     "text": [
      "Male BMI variance: 23.14748644035367\n",
      "Female BMI variance: 21.945979240479307\n"
     ]
    }
   ],
   "source": [
    "# Find variances in male and female BMIs respectively\n",
    "print(\"Male BMI variance:\", male_bmis.var())\n",
    "print(\"Female BMI variance:\", female_bmis.var())"
   ]
  },
  {
   "cell_type": "markdown",
   "id": "27039115",
   "metadata": {},
   "source": [
    "### Assumptions underlying Levene's test\n",
    "\n",
    "* <b>Independence:</b> It is assumed that observations within each group are independent of each other. \n",
    "* <b>Normality:</b> The observations within each group should approximately follow a normal distribution. "
   ]
  },
  {
   "cell_type": "code",
   "execution_count": 30,
   "id": "4c535296",
   "metadata": {},
   "outputs": [
    {
     "data": {
      "image/png": "[encoded data removed]",
      "text/plain": [
       "<Figure size 640x480 with 1 Axes>"
      ]
     },
     "metadata": {},
     "output_type": "display_data"
    }
   ],
   "source": [
    "# Create a bar graph to visualize male vs. female BMI variance\n",
    "categories = [\"Male\", \"Female\"]\n",
    "values = [male_bmis.var(), female_bmis.var()]\n",
    "plt.title(\"BMI variance among males and females\")\n",
    "plt.xlabel(\"Gender\")\n",
    "plt.ylabel(\"BMI variance\")\n",
    "bars = plt.bar(categories, values, color=[\"blue\", \"pink\"])\n",
    "plt.bar_label(bars, fmt=\"{:,.3f}\")\n",
    "plt.show()"
   ]
  }
 ],
 "metadata": {
  "kernelspec": {
   "display_name": "Python 3 (ipykernel)",
   "language": "python",
   "name": "python3"
  },
  "language_info": {
   "codemirror_mode": {
    "name": "ipython",
    "version": 3
   },
   "file_extension": ".py",
   "mimetype": "text/x-python",
   "name": "python",
   "nbconvert_exporter": "python",
   "pygments_lexer": "ipython3",
   "version": "3.11.5"
  }
 },
 "nbformat": 4,
 "nbformat_minor": 5
}
